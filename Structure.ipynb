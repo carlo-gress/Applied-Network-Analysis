{
 "cells": [
  {
   "cell_type": "markdown",
   "metadata": {},
   "source": [
    "# Presentation Wikipedia Growth \n",
    "\n",
    "## Structure\n",
    "\n",
    "1.  Introduction: No plots, but only key facts and figures about the network (number of nodes, edges, average degree, that it is directed with in- and out links etc). Also one sentence on how we later split the network for the analysis\n",
    "\n",
    "3.  Degree distribution plot but with in and out degrees (already done)\n",
    "4.  Development of avg. and max degree over time (already done)\n",
    "5.  One community detection graph, maybe the k-core-decomposition one\n",
    "6.  Briefly explaining the new split again, briefly stating how many nodes were created in each year, maybe a plot of the network for each year \n",
    "7.  Plot of another idealized network like Erdos-Renyi    \n",
    "8.  Comparing our network to the idealized one \n",
    "9.  tbd\n",
    "10. tbd"
   ]
  },
  {
   "cell_type": "markdown",
   "metadata": {},
   "source": []
  }
 ],
 "metadata": {
  "language_info": {
   "name": "python"
  },
  "orig_nbformat": 4
 },
 "nbformat": 4,
 "nbformat_minor": 2
}
